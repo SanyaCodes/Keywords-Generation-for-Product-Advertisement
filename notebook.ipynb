{
  "nbformat_minor": 0,
  "metadata": {
    "kernelspec": {
      "display_name": "Python 3",
      "name": "python3",
      "language": "python"
    },
    "language_info": {
      "nbconvert_exporter": "python",
      "version": "3.5.2",
      "name": "python",
      "pygments_lexer": "ipython3",
      "mimetype": "text/x-python",
      "file_extension": ".py",
      "codemirror_mode": {
        "name": "ipython",
        "version": 3
      }
    },
    "colab": {
      "name": "notebook.ipynb",
      "provenance": [],
      "collapsed_sections": []
    }
  },
  "cells": [
    {
      "metadata": {
        "deletable": false,
        "run_control": {
          "frozen": true
        },
        "tags": [
          "context"
        ],
        "editable": false,
        "dc": {
          "key": "4"
        },
        "id": "A0SWDI1ur8yD"
      },
      "source": [
        "## 1. The Brief given by Client\n",
        "<p>I am tasked with creating a prototype set of keywords for search campaigns for their sofas section. The client says that they want us to generate keywords for the following products: </p>\n",
        "<ul>\n",
        "<li>sofas</li>\n",
        "<li>recliners</li>\n",
        "</ul>\n",
        "<p><strong>The Campaign highlights</strong>: The client is generally a low-cost retailer, offering many promotions and discounts. I am targeting price-sensitive customers. </p>\n",
        "<p>The resulting keywords: 'buy sofas', 'sofas buy', 'buy recliners', 'recliners buy',\n",
        "          'prices sofas', 'sofas prices', 'prices recliners', 'recliners prices'.</p>\n"
      ],
      "cell_type": "markdown"
    },
    {
      "metadata": {
        "trusted": true,
        "tags": [
          "sample_code"
        ],
        "dc": {
          "key": "4"
        },
        "colab": {
          "base_uri": "https://localhost:8080/"
        },
        "id": "WR6roU5Lr8yH",
        "outputId": "0a2e388d-ba3e-41a7-b245-5cd2520a166d"
      },
      "outputs": [
        {
          "output_type": "stream",
          "name": "stdout",
          "text": [
            "['buy', 'price', 'discount', 'promotion', 'promo', 'shop']\n"
          ]
        }
      ],
      "source": [
        "ad_words = ['buy', 'price', 'discount', 'promotion', 'promo', 'shop']\n",
        "print(ad_words)"
      ],
      "execution_count": 12,
      "cell_type": "code"
    },
    {
      "metadata": {
        "deletable": false,
        "run_control": {
          "frozen": true
        },
        "tags": [
          "context"
        ],
        "editable": false,
        "dc": {
          "key": "11"
        },
        "id": "w1STxi4pr8yI"
      },
      "source": [
        "## 2. Combining the words with the product names\n",
        "<p>Next is creating all possible combinations of keywords</p>\n",
        "<p>I combine every word with every product once before, and once after.</p>\n",
        "<p>Example : For the product 'recliners' and the words 'buy' and 'price' for example, I would want to generate the following combinations: </p>\n",
        "<p>buy recliners<br>\n",
        "recliners buy<br>\n",
        "price recliners<br>\n",
        "recliners price<br>\n",
        "…  </p>\n",
        "<p>and so on for all the words and products that I have.</p>"
      ],
      "cell_type": "markdown"
    },
    {
      "metadata": {
        "trusted": true,
        "tags": [
          "sample_code"
        ],
        "dc": {
          "key": "11"
        },
        "colab": {
          "base_uri": "https://localhost:8080/"
        },
        "id": "zz7xC7vur8yJ",
        "outputId": "0ef8ef07-f2ca-418d-d600-be5f1b379e18"
      },
      "outputs": [
        {
          "output_type": "stream",
          "name": "stdout",
          "text": [
            "[['sofas', 'sofas buy'],\n",
            " ['sofas', 'buy sofas'],\n",
            " ['sofas', 'sofas price'],\n",
            " ['sofas', 'price sofas'],\n",
            " ['sofas', 'sofas discount'],\n",
            " ['sofas', 'discount sofas'],\n",
            " ['sofas', 'sofas promotion'],\n",
            " ['sofas', 'promotion sofas'],\n",
            " ['sofas', 'sofas promo'],\n",
            " ['sofas', 'promo sofas'],\n",
            " ['sofas', 'sofas shop'],\n",
            " ['sofas', 'shop sofas'],\n",
            " ['convertible sofas', 'convertible sofas buy'],\n",
            " ['convertible sofas', 'buy convertible sofas'],\n",
            " ['convertible sofas', 'convertible sofas price'],\n",
            " ['convertible sofas', 'price convertible sofas'],\n",
            " ['convertible sofas', 'convertible sofas discount'],\n",
            " ['convertible sofas', 'discount convertible sofas'],\n",
            " ['convertible sofas', 'convertible sofas promotion'],\n",
            " ['convertible sofas', 'promotion convertible sofas'],\n",
            " ['convertible sofas', 'convertible sofas promo'],\n",
            " ['convertible sofas', 'promo convertible sofas'],\n",
            " ['convertible sofas', 'convertible sofas shop'],\n",
            " ['convertible sofas', 'shop convertible sofas'],\n",
            " ['love seats', 'love seats buy'],\n",
            " ['love seats', 'buy love seats'],\n",
            " ['love seats', 'love seats price'],\n",
            " ['love seats', 'price love seats'],\n",
            " ['love seats', 'love seats discount'],\n",
            " ['love seats', 'discount love seats'],\n",
            " ['love seats', 'love seats promotion'],\n",
            " ['love seats', 'promotion love seats'],\n",
            " ['love seats', 'love seats promo'],\n",
            " ['love seats', 'promo love seats'],\n",
            " ['love seats', 'love seats shop'],\n",
            " ['love seats', 'shop love seats'],\n",
            " ['recliners', 'recliners buy'],\n",
            " ['recliners', 'buy recliners'],\n",
            " ['recliners', 'recliners price'],\n",
            " ['recliners', 'price recliners'],\n",
            " ['recliners', 'recliners discount'],\n",
            " ['recliners', 'discount recliners'],\n",
            " ['recliners', 'recliners promotion'],\n",
            " ['recliners', 'promotion recliners'],\n",
            " ['recliners', 'recliners promo'],\n",
            " ['recliners', 'promo recliners'],\n",
            " ['recliners', 'recliners shop'],\n",
            " ['recliners', 'shop recliners'],\n",
            " ['sofa beds', 'sofa beds buy'],\n",
            " ['sofa beds', 'buy sofa beds'],\n",
            " ['sofa beds', 'sofa beds price'],\n",
            " ['sofa beds', 'price sofa beds'],\n",
            " ['sofa beds', 'sofa beds discount'],\n",
            " ['sofa beds', 'discount sofa beds'],\n",
            " ['sofa beds', 'sofa beds promotion'],\n",
            " ['sofa beds', 'promotion sofa beds'],\n",
            " ['sofa beds', 'sofa beds promo'],\n",
            " ['sofa beds', 'promo sofa beds'],\n",
            " ['sofa beds', 'sofa beds shop'],\n",
            " ['sofa beds', 'shop sofa beds']]\n"
          ]
        }
      ],
      "source": [
        "products = ['sofas', 'convertible sofas', 'love seats', 'recliners', 'sofa beds']\n",
        "keywords_list = []\n",
        "\n",
        "for product in products:\n",
        "    for word in ad_words:\n",
        "        keywords_list.append([product, product + ' ' + word])\n",
        "        keywords_list.append([product, word + ' ' + product])\n",
        "        \n",
        "from pprint import pprint\n",
        "pprint(keywords_list)"
      ],
      "execution_count": 13,
      "cell_type": "code"
    },
    {
      "metadata": {
        "deletable": false,
        "run_control": {
          "frozen": true
        },
        "tags": [
          "context"
        ],
        "editable": false,
        "dc": {
          "key": "18"
        },
        "id": "IX_0zQbDr8yK"
      },
      "source": [
        "## 3. Convert the list of lists into a DataFrame"
      ],
      "cell_type": "markdown"
    },
    {
      "metadata": {
        "trusted": true,
        "tags": [
          "sample_code"
        ],
        "dc": {
          "key": "18"
        },
        "colab": {
          "base_uri": "https://localhost:8080/"
        },
        "id": "VZ35tiumr8yK",
        "outputId": "8291a482-84d3-46bf-af0d-125a6f561615"
      },
      "outputs": [
        {
          "output_type": "stream",
          "name": "stdout",
          "text": [
            "                    0                            1\n",
            "0               sofas                    sofas buy\n",
            "1               sofas                    buy sofas\n",
            "2               sofas                  sofas price\n",
            "3               sofas                  price sofas\n",
            "4               sofas               sofas discount\n",
            "5               sofas               discount sofas\n",
            "6               sofas              sofas promotion\n",
            "7               sofas              promotion sofas\n",
            "8               sofas                  sofas promo\n",
            "9               sofas                  promo sofas\n",
            "10              sofas                   sofas shop\n",
            "11              sofas                   shop sofas\n",
            "12  convertible sofas        convertible sofas buy\n",
            "13  convertible sofas        buy convertible sofas\n",
            "14  convertible sofas      convertible sofas price\n",
            "15  convertible sofas      price convertible sofas\n",
            "16  convertible sofas   convertible sofas discount\n",
            "17  convertible sofas   discount convertible sofas\n",
            "18  convertible sofas  convertible sofas promotion\n",
            "19  convertible sofas  promotion convertible sofas\n",
            "20  convertible sofas      convertible sofas promo\n",
            "21  convertible sofas      promo convertible sofas\n",
            "22  convertible sofas       convertible sofas shop\n",
            "23  convertible sofas       shop convertible sofas\n",
            "24         love seats               love seats buy\n",
            "25         love seats               buy love seats\n",
            "26         love seats             love seats price\n",
            "27         love seats             price love seats\n",
            "28         love seats          love seats discount\n",
            "29         love seats          discount love seats\n",
            "30         love seats         love seats promotion\n",
            "31         love seats         promotion love seats\n",
            "32         love seats             love seats promo\n",
            "33         love seats             promo love seats\n",
            "34         love seats              love seats shop\n",
            "35         love seats              shop love seats\n",
            "36          recliners                recliners buy\n",
            "37          recliners                buy recliners\n",
            "38          recliners              recliners price\n",
            "39          recliners              price recliners\n",
            "40          recliners           recliners discount\n",
            "41          recliners           discount recliners\n",
            "42          recliners          recliners promotion\n",
            "43          recliners          promotion recliners\n",
            "44          recliners              recliners promo\n",
            "45          recliners              promo recliners\n",
            "46          recliners               recliners shop\n",
            "47          recliners               shop recliners\n",
            "48          sofa beds                sofa beds buy\n",
            "49          sofa beds                buy sofa beds\n",
            "50          sofa beds              sofa beds price\n",
            "51          sofa beds              price sofa beds\n",
            "52          sofa beds           sofa beds discount\n",
            "53          sofa beds           discount sofa beds\n",
            "54          sofa beds          sofa beds promotion\n",
            "55          sofa beds          promotion sofa beds\n",
            "56          sofa beds              sofa beds promo\n",
            "57          sofa beds              promo sofa beds\n",
            "58          sofa beds               sofa beds shop\n",
            "59          sofa beds               shop sofa beds\n"
          ]
        }
      ],
      "source": [
        "import pandas as pd\n",
        "keywords_df = pd.DataFrame.from_records(keywords_list)\n",
        "\n",
        "print(keywords_df)"
      ],
      "execution_count": 14,
      "cell_type": "code"
    },
    {
      "metadata": {
        "deletable": false,
        "run_control": {
          "frozen": true
        },
        "tags": [
          "context"
        ],
        "editable": false,
        "dc": {
          "key": "25"
        },
        "id": "CqzSCFlMr8yK"
      },
      "source": [
        "## 4. Rename the columns of the DataFrame & adding Campaign column\n",
        "<p>Before uploading this table of keywords, I will need to give the columns meaningful names. On inspecting the DataFrame created above, the columns are currently named <code>0</code> and <code>1</code>. <code>Ad Group</code> (example: \"sofas\") and <code>Keyword</code> (example: \"sofas buy\") are better suited. Along with this, Campaign has also been named as <code>SEM_Sofas</code></p>"
      ],
      "cell_type": "markdown"
    },
    {
      "metadata": {
        "trusted": true,
        "tags": [
          "sample_code"
        ],
        "collapsed": true,
        "dc": {
          "key": "25"
        },
        "colab": {
          "base_uri": "https://localhost:8080/"
        },
        "id": "8Z190_wOr8yL",
        "outputId": "2f3325b4-5a0f-4d9f-a74e-c845f3eeae83"
      },
      "outputs": [
        {
          "output_type": "stream",
          "name": "stdout",
          "text": [
            "             Ad Group                      Keyword   Campaign\n",
            "0               sofas                    sofas buy  SEM_Sofas\n",
            "1               sofas                    buy sofas  SEM_Sofas\n",
            "2               sofas                  sofas price  SEM_Sofas\n",
            "3               sofas                  price sofas  SEM_Sofas\n",
            "4               sofas               sofas discount  SEM_Sofas\n",
            "5               sofas               discount sofas  SEM_Sofas\n",
            "6               sofas              sofas promotion  SEM_Sofas\n",
            "7               sofas              promotion sofas  SEM_Sofas\n",
            "8               sofas                  sofas promo  SEM_Sofas\n",
            "9               sofas                  promo sofas  SEM_Sofas\n",
            "10              sofas                   sofas shop  SEM_Sofas\n",
            "11              sofas                   shop sofas  SEM_Sofas\n",
            "12  convertible sofas        convertible sofas buy  SEM_Sofas\n",
            "13  convertible sofas        buy convertible sofas  SEM_Sofas\n",
            "14  convertible sofas      convertible sofas price  SEM_Sofas\n",
            "15  convertible sofas      price convertible sofas  SEM_Sofas\n",
            "16  convertible sofas   convertible sofas discount  SEM_Sofas\n",
            "17  convertible sofas   discount convertible sofas  SEM_Sofas\n",
            "18  convertible sofas  convertible sofas promotion  SEM_Sofas\n",
            "19  convertible sofas  promotion convertible sofas  SEM_Sofas\n",
            "20  convertible sofas      convertible sofas promo  SEM_Sofas\n",
            "21  convertible sofas      promo convertible sofas  SEM_Sofas\n",
            "22  convertible sofas       convertible sofas shop  SEM_Sofas\n",
            "23  convertible sofas       shop convertible sofas  SEM_Sofas\n",
            "24         love seats               love seats buy  SEM_Sofas\n",
            "25         love seats               buy love seats  SEM_Sofas\n",
            "26         love seats             love seats price  SEM_Sofas\n",
            "27         love seats             price love seats  SEM_Sofas\n",
            "28         love seats          love seats discount  SEM_Sofas\n",
            "29         love seats          discount love seats  SEM_Sofas\n",
            "30         love seats         love seats promotion  SEM_Sofas\n",
            "31         love seats         promotion love seats  SEM_Sofas\n",
            "32         love seats             love seats promo  SEM_Sofas\n",
            "33         love seats             promo love seats  SEM_Sofas\n",
            "34         love seats              love seats shop  SEM_Sofas\n",
            "35         love seats              shop love seats  SEM_Sofas\n",
            "36          recliners                recliners buy  SEM_Sofas\n",
            "37          recliners                buy recliners  SEM_Sofas\n",
            "38          recliners              recliners price  SEM_Sofas\n",
            "39          recliners              price recliners  SEM_Sofas\n",
            "40          recliners           recliners discount  SEM_Sofas\n",
            "41          recliners           discount recliners  SEM_Sofas\n",
            "42          recliners          recliners promotion  SEM_Sofas\n",
            "43          recliners          promotion recliners  SEM_Sofas\n",
            "44          recliners              recliners promo  SEM_Sofas\n",
            "45          recliners              promo recliners  SEM_Sofas\n",
            "46          recliners               recliners shop  SEM_Sofas\n",
            "47          recliners               shop recliners  SEM_Sofas\n",
            "48          sofa beds                sofa beds buy  SEM_Sofas\n",
            "49          sofa beds                buy sofa beds  SEM_Sofas\n",
            "50          sofa beds              sofa beds price  SEM_Sofas\n",
            "51          sofa beds              price sofa beds  SEM_Sofas\n",
            "52          sofa beds           sofa beds discount  SEM_Sofas\n",
            "53          sofa beds           discount sofa beds  SEM_Sofas\n",
            "54          sofa beds          sofa beds promotion  SEM_Sofas\n",
            "55          sofa beds          promotion sofa beds  SEM_Sofas\n",
            "56          sofa beds              sofa beds promo  SEM_Sofas\n",
            "57          sofa beds              promo sofa beds  SEM_Sofas\n",
            "58          sofa beds               sofa beds shop  SEM_Sofas\n",
            "59          sofa beds               shop sofa beds  SEM_Sofas\n"
          ]
        }
      ],
      "source": [
        "keywords_df = keywords_df.rename(columns={0: 'Ad Group', 1: 'Keyword'})\n",
        "keywords_df['Campaign'] = 'SEM_Sofas'\n",
        "print(keywords_df)"
      ],
      "execution_count": 15,
      "cell_type": "code"
    },
    {
      "metadata": {
        "deletable": false,
        "run_control": {
          "frozen": true
        },
        "tags": [
          "context"
        ],
        "editable": false,
        "dc": {
          "key": "39"
        },
        "id": "2XfeIiVSr8yM"
      },
      "source": [
        "## 5. Creating the match type column\n",
        "<p>There am different keyword match types. One is exact match, which is for matching the exact term or close variations of that exact term. Another match type is broad match, which means ads may show on searches that include misspellings, synonyms, related searches, and other relevant variations.</p>\n",
        "\n",
        "<blockquote>\n",
        "  <p>In general, the broader the match type, the more traffic potential that keyword will have, since your ads may be triggered more often. Conversely, a narrower match type means that your ads may show less often—but when they do, they’re likely to be more related to someone’s search.</p>\n",
        "</blockquote>"
      ],
      "cell_type": "markdown"
    },
    {
      "metadata": {
        "trusted": true,
        "tags": [
          "sample_code"
        ],
        "collapsed": true,
        "dc": {
          "key": "39"
        },
        "colab": {
          "base_uri": "https://localhost:8080/"
        },
        "id": "aO3NaLo2r8yN",
        "outputId": "0ebba191-c1f4-48ed-a0ed-44bff0eaf06d"
      },
      "outputs": [
        {
          "output_type": "stream",
          "name": "stdout",
          "text": [
            "             Ad Group                      Keyword   Campaign Criterion Type\n",
            "0               sofas                    sofas buy  SEM_Sofas          Exact\n",
            "1               sofas                    buy sofas  SEM_Sofas          Exact\n",
            "2               sofas                  sofas price  SEM_Sofas          Exact\n",
            "3               sofas                  price sofas  SEM_Sofas          Exact\n",
            "4               sofas               sofas discount  SEM_Sofas          Exact\n",
            "5               sofas               discount sofas  SEM_Sofas          Exact\n",
            "6               sofas              sofas promotion  SEM_Sofas          Exact\n",
            "7               sofas              promotion sofas  SEM_Sofas          Exact\n",
            "8               sofas                  sofas promo  SEM_Sofas          Exact\n",
            "9               sofas                  promo sofas  SEM_Sofas          Exact\n",
            "10              sofas                   sofas shop  SEM_Sofas          Exact\n",
            "11              sofas                   shop sofas  SEM_Sofas          Exact\n",
            "12  convertible sofas        convertible sofas buy  SEM_Sofas          Exact\n",
            "13  convertible sofas        buy convertible sofas  SEM_Sofas          Exact\n",
            "14  convertible sofas      convertible sofas price  SEM_Sofas          Exact\n",
            "15  convertible sofas      price convertible sofas  SEM_Sofas          Exact\n",
            "16  convertible sofas   convertible sofas discount  SEM_Sofas          Exact\n",
            "17  convertible sofas   discount convertible sofas  SEM_Sofas          Exact\n",
            "18  convertible sofas  convertible sofas promotion  SEM_Sofas          Exact\n",
            "19  convertible sofas  promotion convertible sofas  SEM_Sofas          Exact\n",
            "20  convertible sofas      convertible sofas promo  SEM_Sofas          Exact\n",
            "21  convertible sofas      promo convertible sofas  SEM_Sofas          Exact\n",
            "22  convertible sofas       convertible sofas shop  SEM_Sofas          Exact\n",
            "23  convertible sofas       shop convertible sofas  SEM_Sofas          Exact\n",
            "24         love seats               love seats buy  SEM_Sofas          Exact\n",
            "25         love seats               buy love seats  SEM_Sofas          Exact\n",
            "26         love seats             love seats price  SEM_Sofas          Exact\n",
            "27         love seats             price love seats  SEM_Sofas          Exact\n",
            "28         love seats          love seats discount  SEM_Sofas          Exact\n",
            "29         love seats          discount love seats  SEM_Sofas          Exact\n",
            "30         love seats         love seats promotion  SEM_Sofas          Exact\n",
            "31         love seats         promotion love seats  SEM_Sofas          Exact\n",
            "32         love seats             love seats promo  SEM_Sofas          Exact\n",
            "33         love seats             promo love seats  SEM_Sofas          Exact\n",
            "34         love seats              love seats shop  SEM_Sofas          Exact\n",
            "35         love seats              shop love seats  SEM_Sofas          Exact\n",
            "36          recliners                recliners buy  SEM_Sofas          Exact\n",
            "37          recliners                buy recliners  SEM_Sofas          Exact\n",
            "38          recliners              recliners price  SEM_Sofas          Exact\n",
            "39          recliners              price recliners  SEM_Sofas          Exact\n",
            "40          recliners           recliners discount  SEM_Sofas          Exact\n",
            "41          recliners           discount recliners  SEM_Sofas          Exact\n",
            "42          recliners          recliners promotion  SEM_Sofas          Exact\n",
            "43          recliners          promotion recliners  SEM_Sofas          Exact\n",
            "44          recliners              recliners promo  SEM_Sofas          Exact\n",
            "45          recliners              promo recliners  SEM_Sofas          Exact\n",
            "46          recliners               recliners shop  SEM_Sofas          Exact\n",
            "47          recliners               shop recliners  SEM_Sofas          Exact\n",
            "48          sofa beds                sofa beds buy  SEM_Sofas          Exact\n",
            "49          sofa beds                buy sofa beds  SEM_Sofas          Exact\n",
            "50          sofa beds              sofa beds price  SEM_Sofas          Exact\n",
            "51          sofa beds              price sofa beds  SEM_Sofas          Exact\n",
            "52          sofa beds           sofa beds discount  SEM_Sofas          Exact\n",
            "53          sofa beds           discount sofa beds  SEM_Sofas          Exact\n",
            "54          sofa beds          sofa beds promotion  SEM_Sofas          Exact\n",
            "55          sofa beds          promotion sofa beds  SEM_Sofas          Exact\n",
            "56          sofa beds              sofa beds promo  SEM_Sofas          Exact\n",
            "57          sofa beds              promo sofa beds  SEM_Sofas          Exact\n",
            "58          sofa beds               sofa beds shop  SEM_Sofas          Exact\n",
            "59          sofa beds               shop sofa beds  SEM_Sofas          Exact\n"
          ]
        }
      ],
      "source": [
        "keywords_df['Criterion Type'] = 'Exact'\n",
        "print(keywords_df)"
      ],
      "execution_count": 16,
      "cell_type": "code"
    },
    {
      "metadata": {
        "deletable": false,
        "run_control": {
          "frozen": true
        },
        "tags": [
          "context"
        ],
        "editable": false,
        "dc": {
          "key": "46"
        },
        "id": "Vx_0SSzBr8yN"
      },
      "source": [
        "## 6. Duplicating all the keywords into 'phrase' match\n",
        "<p>The great thing about exact match is that it is very specific, and I can control the process very well. The tradeoff, however, is that:  </p>\n",
        "<ol>\n",
        "<li>The search volume for exact match is lower than other match types</li>\n",
        "<li>I can't possibly think of all the ways in which people search, and so, I am probably missing out on some high-quality keywords.</li>\n",
        "</ol>\n",
        "<p>So it's good to use another match called <em>phrase match</em> as a discovery mechanism to allow our ads to be triggered by keywords that include our exact match keywords, together with anything before (or after) them.</p>"
      ],
      "cell_type": "markdown"
    },
    {
      "metadata": {
        "trusted": true,
        "tags": [
          "sample_code"
        ],
        "collapsed": true,
        "dc": {
          "key": "46"
        },
        "colab": {
          "base_uri": "https://localhost:8080/"
        },
        "id": "Q7Hr6dkcr8yN",
        "outputId": "18c7faaa-69e2-4a43-be21-6e2ef6acefef"
      },
      "outputs": [
        {
          "output_type": "stream",
          "name": "stdout",
          "text": [
            "             Ad Group                      Keyword   Campaign Criterion Type\n",
            "0               sofas                    sofas buy  SEM_Sofas          Exact\n",
            "1               sofas                    buy sofas  SEM_Sofas          Exact\n",
            "2               sofas                  sofas price  SEM_Sofas          Exact\n",
            "3               sofas                  price sofas  SEM_Sofas          Exact\n",
            "4               sofas               sofas discount  SEM_Sofas          Exact\n",
            "5               sofas               discount sofas  SEM_Sofas          Exact\n",
            "6               sofas              sofas promotion  SEM_Sofas          Exact\n",
            "7               sofas              promotion sofas  SEM_Sofas          Exact\n",
            "8               sofas                  sofas promo  SEM_Sofas          Exact\n",
            "9               sofas                  promo sofas  SEM_Sofas          Exact\n",
            "10              sofas                   sofas shop  SEM_Sofas          Exact\n",
            "11              sofas                   shop sofas  SEM_Sofas          Exact\n",
            "12  convertible sofas        convertible sofas buy  SEM_Sofas          Exact\n",
            "13  convertible sofas        buy convertible sofas  SEM_Sofas          Exact\n",
            "14  convertible sofas      convertible sofas price  SEM_Sofas          Exact\n",
            "15  convertible sofas      price convertible sofas  SEM_Sofas          Exact\n",
            "16  convertible sofas   convertible sofas discount  SEM_Sofas          Exact\n",
            "17  convertible sofas   discount convertible sofas  SEM_Sofas          Exact\n",
            "18  convertible sofas  convertible sofas promotion  SEM_Sofas          Exact\n",
            "19  convertible sofas  promotion convertible sofas  SEM_Sofas          Exact\n",
            "20  convertible sofas      convertible sofas promo  SEM_Sofas          Exact\n",
            "21  convertible sofas      promo convertible sofas  SEM_Sofas          Exact\n",
            "22  convertible sofas       convertible sofas shop  SEM_Sofas          Exact\n",
            "23  convertible sofas       shop convertible sofas  SEM_Sofas          Exact\n",
            "24         love seats               love seats buy  SEM_Sofas          Exact\n",
            "25         love seats               buy love seats  SEM_Sofas          Exact\n",
            "26         love seats             love seats price  SEM_Sofas          Exact\n",
            "27         love seats             price love seats  SEM_Sofas          Exact\n",
            "28         love seats          love seats discount  SEM_Sofas          Exact\n",
            "29         love seats          discount love seats  SEM_Sofas          Exact\n",
            "30         love seats         love seats promotion  SEM_Sofas          Exact\n",
            "31         love seats         promotion love seats  SEM_Sofas          Exact\n",
            "32         love seats             love seats promo  SEM_Sofas          Exact\n",
            "33         love seats             promo love seats  SEM_Sofas          Exact\n",
            "34         love seats              love seats shop  SEM_Sofas          Exact\n",
            "35         love seats              shop love seats  SEM_Sofas          Exact\n",
            "36          recliners                recliners buy  SEM_Sofas          Exact\n",
            "37          recliners                buy recliners  SEM_Sofas          Exact\n",
            "38          recliners              recliners price  SEM_Sofas          Exact\n",
            "39          recliners              price recliners  SEM_Sofas          Exact\n",
            "40          recliners           recliners discount  SEM_Sofas          Exact\n",
            "41          recliners           discount recliners  SEM_Sofas          Exact\n",
            "42          recliners          recliners promotion  SEM_Sofas          Exact\n",
            "43          recliners          promotion recliners  SEM_Sofas          Exact\n",
            "44          recliners              recliners promo  SEM_Sofas          Exact\n",
            "45          recliners              promo recliners  SEM_Sofas          Exact\n",
            "46          recliners               recliners shop  SEM_Sofas          Exact\n",
            "47          recliners               shop recliners  SEM_Sofas          Exact\n",
            "48          sofa beds                sofa beds buy  SEM_Sofas          Exact\n",
            "49          sofa beds                buy sofa beds  SEM_Sofas          Exact\n",
            "50          sofa beds              sofa beds price  SEM_Sofas          Exact\n",
            "51          sofa beds              price sofa beds  SEM_Sofas          Exact\n",
            "52          sofa beds           sofa beds discount  SEM_Sofas          Exact\n",
            "53          sofa beds           discount sofa beds  SEM_Sofas          Exact\n",
            "54          sofa beds          sofa beds promotion  SEM_Sofas          Exact\n",
            "55          sofa beds          promotion sofa beds  SEM_Sofas          Exact\n",
            "56          sofa beds              sofa beds promo  SEM_Sofas          Exact\n",
            "57          sofa beds              promo sofa beds  SEM_Sofas          Exact\n",
            "58          sofa beds               sofa beds shop  SEM_Sofas          Exact\n",
            "59          sofa beds               shop sofa beds  SEM_Sofas          Exact\n"
          ]
        }
      ],
      "source": [
        "keywords_phrase = keywords_df.copy()\n",
        "keywords_phrase['Criterion Type'] = 'Phrase'\n",
        "\n",
        "keywords_df_final = keywords_df.append(keywords_phrase)\n",
        "print(keywords_df)"
      ],
      "execution_count": 17,
      "cell_type": "code"
    },
    {
      "metadata": {
        "deletable": false,
        "run_control": {
          "frozen": true
        },
        "tags": [
          "context"
        ],
        "editable": false,
        "dc": {
          "key": "53"
        },
        "id": "2HtUJtGgr8yN"
      },
      "source": [
        "## 8. Save and summarize!\n",
        "<p>To upload our campaign, I need to save it as a CSV file. Then I will be able to import it to AdWords editor.</p>\n",
        "<p>Looking at a summary shows us that I assigned specific keywords to specific ad groups, which are each part of a campaign. In essence, I am telling Google (or Bing, etc.) that I want any of the words in each ad group to trigger one of the ads in the same ad group.</p>\n",
        "<p>Together, these tables get us the sample <strong>keywords -> ads -> landing pages</strong> mapping shown in the diagram below.</p>\n",
        "<p><img src=\"https://assets.datacamp.com/production/project_400/img/kwds_ads_lpages.png\" alt=\"Keywords-Ads-Landing pages flow\" width=\"600\"></p>"
      ],
      "cell_type": "markdown"
    },
    {
      "metadata": {
        "trusted": true,
        "tags": [
          "sample_code"
        ],
        "dc": {
          "key": "53"
        },
        "colab": {
          "base_uri": "https://localhost:8080/"
        },
        "id": "whYduedkr8yO",
        "outputId": "768963e5-740c-4d59-f8e1-43333f76cbb8"
      },
      "outputs": [
        {
          "output_type": "stream",
          "name": "stdout",
          "text": [
            "Ad Group           Criterion Type\n",
            "convertible sofas  Exact             12\n",
            "                   Phrase            12\n",
            "love seats         Exact             12\n",
            "                   Phrase            12\n",
            "recliners          Exact             12\n",
            "                   Phrase            12\n",
            "sofa beds          Exact             12\n",
            "                   Phrase            12\n",
            "sofas              Exact             12\n",
            "                   Phrase            12\n",
            "Name: Keyword, dtype: int64\n"
          ]
        }
      ],
      "source": [
        "keywords_df_final.to_csv('keywords.csv', index=False)\n",
        "summary = keywords_df_final.groupby(['Ad Group', 'Criterion Type'])['Keyword'].count()\n",
        "print(summary)"
      ],
      "execution_count": 18,
      "cell_type": "code"
    }
  ],
  "nbformat": 4
}